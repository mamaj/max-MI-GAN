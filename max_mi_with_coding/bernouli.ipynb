{
 "cells": [
  {
   "cell_type": "code",
   "execution_count": 1,
   "metadata": {},
   "outputs": [],
   "source": [
    "from itertools import product\n",
    "\n",
    "import numpy as np\n",
    "import matplotlib.pyplot as plt\n",
    "import pandas as pd\n",
    "from tqdm.notebook import tqdm, trange"
   ]
  },
  {
   "cell_type": "markdown",
   "metadata": {},
   "source": [
    "# binary RVs (2 x 2 x 2)"
   ]
  },
  {
   "cell_type": "code",
   "execution_count": 257,
   "metadata": {},
   "outputs": [],
   "source": [
    "def h(p):\n",
    "    if p == 0 or p == 1:\n",
    "        return 0\n",
    "    return - p * np.log(p) - (1-p) * np.log(1-p)\n",
    "\n",
    "class StochMap:\n",
    "    def __init__(self, a, b, in_marginal, out_marginal):\n",
    "        self.in_marginal = in_marginal\n",
    "        self.a = a\n",
    "        \n",
    "        if out_marginal is None:\n",
    "            assert b is not None\n",
    "            self.out_marginal = in_marginal * a +  (1-in_marginal) * b\n",
    "        else:\n",
    "            self.out_marginal = out_marginal\n",
    "        \n",
    "        if b is None:\n",
    "            self.b = (out_marginal - in_marginal * a) / (1 - in_marginal)\n",
    "        else:\n",
    "            self.b = b\n",
    "            \n",
    "        \n",
    "    def cond_ent(self):\n",
    "        return self.in_marginal * h(self.a) + (1 - self.in_marginal) * h(self.b)    \n",
    "        \n",
    "    def __mul__(self, other):\n",
    "        return StochMap(\n",
    "            self.a * other.a + (1-self.a) * (other.b),\n",
    "            None, \n",
    "            self.in_marginal,\n",
    "            other.out_marginal\n",
    "        )"
   ]
  },
  {
   "cell_type": "code",
   "execution_count": 96,
   "metadata": {},
   "outputs": [
    {
     "name": "stdout",
     "output_type": "stream",
     "text": [
      "0.0\n",
      "0.6730116670092564\n",
      "0.6730116670092564\n"
     ]
    }
   ],
   "source": [
    "p, q = .2, .4\n",
    "a, b, c = 1, 0, .4\n",
    "\n",
    "enc = StochMap(a, b, p, None)\n",
    "dec = StochMap(c, None, enc.out_marginal, q)\n",
    "\n",
    "enc_dec = enc * dec \n",
    "\n",
    "\n",
    "print(enc.cond_ent())\n",
    "print(dec.cond_ent())\n",
    "print(enc_dec.cond_ent())"
   ]
  },
  {
   "cell_type": "code",
   "execution_count": 135,
   "metadata": {},
   "outputs": [
    {
     "data": {
      "application/vnd.jupyter.widget-view+json": {
       "model_id": "55ec242f77804eaab5243117b3b031e9",
       "version_major": 2,
       "version_minor": 0
      },
      "text/plain": [
       "  0%|          | 0/8000000 [00:00<?, ?it/s]"
      ]
     },
     "metadata": {},
     "output_type": "display_data"
    },
    {
     "name": "stderr",
     "output_type": "stream",
     "text": [
      "/var/folders/tz/4_n876296_s5_8c32v2pv84h0000gn/T/ipykernel_98297/2443121150.py:4: RuntimeWarning: invalid value encountered in log\n",
      "  return - p * np.log(p) - (1-p) * np.log(1-p)\n",
      "/var/folders/tz/4_n876296_s5_8c32v2pv84h0000gn/T/ipykernel_98297/2443121150.py:18: RuntimeWarning: divide by zero encountered in double_scalars\n",
      "  self.b = (out_marginal - in_marginal * a) / (1 - in_marginal)\n",
      "/var/folders/tz/4_n876296_s5_8c32v2pv84h0000gn/T/ipykernel_98297/2443121150.py:28: RuntimeWarning: invalid value encountered in double_scalars\n",
      "  self.a * other.a + (1-self.a) * (other.b),\n"
     ]
    }
   ],
   "source": [
    "p, q = .2, .4\n",
    "num_points = 200\n",
    "# R = 100\n",
    "R = h(.5) / 3\n",
    "\n",
    "val_range = np.linspace(0, 1, num_points)\n",
    "objectives, params = [], []\n",
    "for a, b, c in tqdm(product(val_range, val_range, val_range), total=num_points**3):\n",
    "    params.append((a, b, c))\n",
    "    enc = StochMap(a, b, p, None)\n",
    "    dec = StochMap(c, None, enc.out_marginal, q)\n",
    "    if h(enc.out_marginal) <= R:\n",
    "        j = (enc * dec).cond_ent()\n",
    "        objectives.append(j)\n",
    "    else:\n",
    "        objectives.append(np.nan)\n",
    "\n",
    "params = np.array(params)\n",
    "objectives = np.array(objectives)"
   ]
  },
  {
   "cell_type": "code",
   "execution_count": 139,
   "metadata": {},
   "outputs": [
    {
     "name": "stdout",
     "output_type": "stream",
     "text": [
      "H(Y|X) = 0.44987, R<=0.2310, H(Y)=0.6730\n",
      "\n",
      "a=0.9598, b=0.9899, c=0.0000\n",
      "p=0.2000, t=0.9839, q=0.4000\n",
      "H(T)=0.0824\n",
      "dec=0.0 24.875000000000032\n",
      "\n",
      "a=0.9799, b=0.9950, c=0.0000\n",
      "p=0.2000, t=0.9920, q=0.4000\n",
      "H(T)=0.0468\n",
      "dec=0.0 49.750000000000064\n",
      "\n",
      "a=1.0000, b=0.9246, c=1.0000\n",
      "p=0.2000, t=0.9397, q=0.4000\n",
      "H(T)=0.2278\n",
      "dec=1.0 -8.949999999999994\n",
      "\n",
      "a=1.0000, b=0.9296, c=1.0000\n",
      "p=0.2000, t=0.9437, q=0.4000\n",
      "H(T)=0.2166\n",
      "dec=1.0 -9.660714285714299\n",
      "\n",
      "a=1.0000, b=0.9347, c=1.0000\n",
      "p=0.2000, t=0.9477, q=0.4000\n",
      "H(T)=0.2051\n",
      "dec=1.0 -10.480769230769269\n",
      "\n",
      "a=1.0000, b=0.9397, c=1.0000\n",
      "p=0.2000, t=0.9518, q=0.4000\n",
      "H(T)=0.1933\n",
      "dec=1.0 -11.437500000000014\n",
      "\n",
      "a=1.0000, b=0.9447, c=1.0000\n",
      "p=0.2000, t=0.9558, q=0.4000\n",
      "H(T)=0.1811\n",
      "dec=1.0 -12.5681818181818\n",
      "\n",
      "a=1.0000, b=0.9497, c=1.0000\n",
      "p=0.2000, t=0.9598, q=0.4000\n",
      "H(T)=0.1686\n",
      "dec=1.0 -13.925000000000017\n",
      "\n",
      "a=1.0000, b=0.9548, c=1.0000\n",
      "p=0.2000, t=0.9638, q=0.4000\n",
      "H(T)=0.1556\n",
      "dec=1.0 -15.583333333333403\n",
      "\n",
      "a=1.0000, b=0.9598, c=1.0000\n",
      "p=0.2000, t=0.9678, q=0.4000\n",
      "H(T)=0.1422\n",
      "dec=1.0 -17.65625000000002\n",
      "\n",
      "a=1.0000, b=0.9648, c=1.0000\n",
      "p=0.2000, t=0.9719, q=0.4000\n",
      "H(T)=0.1282\n",
      "dec=1.0 -20.321428571428513\n",
      "\n",
      "a=1.0000, b=0.9698, c=1.0000\n",
      "p=0.2000, t=0.9759, q=0.4000\n",
      "H(T)=0.1137\n",
      "dec=1.0 -23.87500000000003\n",
      "\n",
      "a=1.0000, b=0.9749, c=1.0000\n",
      "p=0.2000, t=0.9799, q=0.4000\n",
      "H(T)=0.0984\n",
      "dec=1.0 -28.8500000000002\n",
      "\n",
      "a=1.0000, b=0.9799, c=1.0000\n",
      "p=0.2000, t=0.9839, q=0.4000\n",
      "H(T)=0.0824\n",
      "dec=1.0 -36.31250000000004\n",
      "\n",
      "a=1.0000, b=0.9849, c=1.0000\n",
      "p=0.2000, t=0.9879, q=0.4000\n",
      "H(T)=0.0653\n",
      "dec=1.0 -48.75000000000052\n",
      "\n",
      "a=1.0000, b=0.9899, c=1.0000\n",
      "p=0.2000, t=0.9920, q=0.4000\n",
      "H(T)=0.0468\n",
      "dec=1.0 -73.62500000000009\n",
      "\n",
      "a=1.0000, b=0.9950, c=1.0000\n",
      "p=0.2000, t=0.9960, q=0.4000\n",
      "H(T)=0.0262\n",
      "dec=1.0 -148.2500000000043\n",
      "\n"
     ]
    }
   ],
   "source": [
    "o = np.nanmin(objectives)\n",
    "print(f'H(Y|X) = {o:.5f}, R<={R:.4f}, H(Y)={h(q):.4f}')\n",
    "print()\n",
    "for a, b, c in params[objectives == o]:\n",
    "    # if a==1:\n",
    "    print(f'{a=:.4f}, {b=:.4f}, {c=:.4f}')\n",
    "    enc = StochMap(a, b, p, None)\n",
    "    dec = StochMap(c, None, enc.out_marginal, q)\n",
    "    print(f'p={enc.in_marginal:.4f}, t={dec.in_marginal:.4f}, q={dec.out_marginal:.4f}')\n",
    "    print(f'H(T)={h(enc.out_marginal):.4f}')\n",
    "    print(f'dec={dec.a} {dec.b}')\n",
    "    \n",
    "    print()"
   ]
  },
  {
   "cell_type": "code",
   "execution_count": 130,
   "metadata": {},
   "outputs": [],
   "source": [
    "# T = X\n",
    "\n",
    "a = 1\n",
    "b = 0\n",
    "\n",
    "objectives = []\n",
    "for c in val_range:\n",
    "    enc = StochMap(a, b, p, None)\n",
    "    dec = StochMap(c, None, enc.out_marginal, q)\n",
    "    if h(enc.out_marginal) <= R:\n",
    "        j = (enc * dec).cond_ent()\n",
    "        objectives.append(j)\n",
    "    else:\n",
    "        objectives.append(np.nan)"
   ]
  },
  {
   "cell_type": "code",
   "execution_count": 131,
   "metadata": {},
   "outputs": [
    {
     "name": "stdout",
     "output_type": "stream",
     "text": [
      "nan\n"
     ]
    },
    {
     "name": "stderr",
     "output_type": "stream",
     "text": [
      "/var/folders/tz/4_n876296_s5_8c32v2pv84h0000gn/T/ipykernel_98297/2879765926.py:1: RuntimeWarning: All-NaN axis encountered\n",
      "  o = np.nanmin(objectives)\n"
     ]
    }
   ],
   "source": [
    "o = np.nanmin(objectives)\n",
    "print(o)\n",
    "for c in val_range[objectives == o]:\n",
    "    print(a, b, c)\n",
    "    print(enc.in_marginal, enc.out_marginal, dec.in_marginal, dec.out_marginal)"
   ]
  },
  {
   "cell_type": "markdown",
   "metadata": {},
   "source": [
    "# m x n"
   ]
  },
  {
   "cell_type": "code",
   "execution_count": 2,
   "metadata": {},
   "outputs": [],
   "source": [
    "from scipy.stats import entropy as h\n",
    "    \n",
    "class StochMap:\n",
    "    def __init__(self, p, in_marg, out_marg):\n",
    "        \n",
    "        p[-1, :] = 1 - np.sum(p[:-1, :], axis=0)\n",
    "        in_marg[-1] = 1 - np.sum(in_marg[:-1])\n",
    "        \n",
    "        if out_marg is None:\n",
    "            assert not np.isnan(p).any()\n",
    "            out_marg = (p * in_marg).sum(axis=1)\n",
    "        else:    \n",
    "            out_marg[-1] = 1 - np.sum(out_marg[:-1])\n",
    "        \n",
    "        if np.isnan(p[:, -1]).any():\n",
    "            p[:, -1] = out_marg - (p * in_marg)[:, :-1].sum(axis=1)\n",
    "            p[:, -1] = p[:, -1] / in_marg[-1]\n",
    "    \n",
    "        self.p = p\n",
    "        self.in_marg = in_marg\n",
    "        self.out_marg = out_marg\n",
    "    \n",
    "    \n",
    "    def validate(self):    \n",
    "        assert not np.isnan(self.p).any()\n",
    "        assert not np.isnan(self.in_marg).any()\n",
    "        assert not np.isnan(self.out_marg).any()\n",
    "        assert np.allclose(self.p.sum(axis=0), 1)\n",
    "        assert np.allclose(self.in_marg.sum(), 1)\n",
    "        assert np.allclose(self.out_marg.sum(), 1)\n",
    "        assert np.allclose(self.out_marg, (self.p * self.in_marg).sum(axis=1))\n",
    "        \n",
    "    def cond_ent(self):\n",
    "        return np.sum(h(self.p, axis=0) * self.in_marg)\n",
    "    \n",
    "    def ent(self):\n",
    "        return h(self.out_marg)\n",
    "    \n",
    "    def mutual_info(self):\n",
    "        return self.ent() - self.cond_ent()\n",
    "    \n",
    "    def __repr__(self) -> str:\n",
    "        return f'{self.p}, \\n in_marg: {self.in_marg}, \\n out_marg: {self.out_marg}'\n",
    "    \n",
    "    def __mul__(self, next_map):\n",
    "        return StochMap(\n",
    "            next_map.p @ self.p,\n",
    "            self.in_marg,\n",
    "            next_map.out_marg\n",
    "        )"
   ]
  },
  {
   "cell_type": "code",
   "execution_count": 3,
   "metadata": {},
   "outputs": [
    {
     "name": "stdout",
     "output_type": "stream",
     "text": [
      "0.6891200778498076\n",
      "0.6730116670092565\n",
      "0.6730116670092566\n"
     ]
    }
   ],
   "source": [
    "x_marg = np.array([.2, np.nan]) \n",
    "y_marg = np.array([.4, np.nan]) \n",
    "\n",
    "enc_p = np.array([\n",
    "    [.4, .5],\n",
    "    [np.nan, np.nan]\n",
    "    ])\n",
    "dec_p = np.array([\n",
    "    [.4, np.nan],\n",
    "    [np.nan, np.nan]\n",
    "    ])\n",
    "\n",
    "\n",
    "enc = StochMap(enc_p, x_marg, None)\n",
    "dec = StochMap(dec_p, enc.out_marg, y_marg)\n",
    "\n",
    "enc_dec = enc * dec \n",
    "\n",
    "\n",
    "print(enc.cond_ent())\n",
    "print(dec.cond_ent())\n",
    "print(enc_dec.cond_ent())"
   ]
  },
  {
   "cell_type": "code",
   "execution_count": 445,
   "metadata": {},
   "outputs": [
    {
     "data": {
      "application/vnd.jupyter.widget-view+json": {
       "model_id": "8d16aa5149834889a8c2da30fdb06d1c",
       "version_major": 2,
       "version_minor": 0
      },
      "text/plain": [
       "  0%|          | 0/8000000 [00:00<?, ?it/s]"
      ]
     },
     "metadata": {},
     "output_type": "display_data"
    },
    {
     "name": "stderr",
     "output_type": "stream",
     "text": [
      "/var/folders/tz/4_n876296_s5_8c32v2pv84h0000gn/T/ipykernel_98297/1652753013.py:17: RuntimeWarning: divide by zero encountered in true_divide\n",
      "  p[:, -1] = p[:, -1] / in_marg[-1]\n"
     ]
    }
   ],
   "source": [
    "x_marg = np.array([.2, np.nan]) \n",
    "y_marg = np.array([.4, np.nan])\n",
    "\n",
    "num_points = 200\n",
    "# R = 100\n",
    "R = h([.5, .5]) / 3\n",
    "\n",
    "val_range = np.linspace(0, 1, num_points)\n",
    "objectives, params, rates = [], [], []\n",
    "for a, b, c in tqdm(product(val_range, val_range, val_range), total=num_points**3):\n",
    "    params.append((a, b, c))\n",
    "    \n",
    "    enc_p = np.array([\n",
    "        [a, b],\n",
    "        [np.nan, np.nan]\n",
    "        ])\n",
    "    dec_p = np.array([\n",
    "        [c, np.nan],\n",
    "        [np.nan, np.nan]\n",
    "        ])\n",
    "    \n",
    "    enc = StochMap(enc_p, x_marg, None)\n",
    "    dec = StochMap(dec_p, enc.out_marg, y_marg)\n",
    "\n",
    "    if np.all(dec.p <=1) and np.all(0 <= dec.p):\n",
    "        j = (enc * dec).cond_ent()\n",
    "    else: \n",
    "        j = -1\n",
    "        \n",
    "    objectives.append(j)\n",
    "    rates.append(h(enc.out_marg))\n",
    "    \n",
    "params = np.array(params)\n",
    "objectives = np.array(objectives)\n",
    "rates = np.array(rates)"
   ]
  },
  {
   "cell_type": "code",
   "execution_count": 496,
   "metadata": {},
   "outputs": [
    {
     "name": "stdout",
     "output_type": "stream",
     "text": [
      "H(Y|X) = 0.62812, R = 0.3466\n",
      "H(Y)=0.6730, H(X)=0.5004\n",
      "\n",
      "1\n",
      "H(T)=0.3456, t=[0.10954774 0.89045226],\n",
      " [[0.54773869 0.        ]\n",
      " [0.45226131 1.        ]]\n"
     ]
    }
   ],
   "source": [
    "R = 100\n",
    "R = h([1, 1])/2\n",
    "\n",
    "best_obj = np.min(objectives[(objectives != -1) & (rates <= R)])\n",
    "\n",
    "print(f'H(Y|X) = {best_obj:.5f}, R = {R:.4f}')\n",
    "print(f'H(Y)={h([y_marg[0], 1-y_marg[0]]):.4f}, H(X)={h([x_marg[0], 1-x_marg[0]]):.4f}')\n",
    "print()\n",
    "\n",
    "print(np.sum(objectives == best_obj))\n",
    "for a, b, c in params[objectives == best_obj]:\n",
    "    \n",
    "    enc_p = np.array([\n",
    "        [a, b],\n",
    "        [np.nan, np.nan]\n",
    "        ])\n",
    "    dec_p = np.array([\n",
    "        [c, np.nan],\n",
    "        [np.nan, np.nan]\n",
    "        ])\n",
    "    enc = StochMap(enc_p, x_marg, None)\n",
    "    dec = StochMap(dec_p, enc.out_marg, y_marg)\n",
    "    \n",
    "    # print(f'{a=:.4f}, {b=:.4f}, {c=:.4f}')\n",
    "    print(f'H(T)={h(enc.out_marg):.4f}, t={dec.in_marg},\\n {enc.p}')\n",
    "    # print(f'dec = \\n {dec.p}')\n",
    "    # print(f'enc = \\n {enc.p}')\n",
    "    \n",
    "    # print()"
   ]
  },
  {
   "cell_type": "code",
   "execution_count": 541,
   "metadata": {},
   "outputs": [
    {
     "name": "stdout",
     "output_type": "stream",
     "text": [
      "[[1], [2, 2, 3], 3, 1]\n",
      "[[1], [2, 2, 3], 3, 1]\n"
     ]
    }
   ],
   "source": [
    "def f():\n",
    "    global s\n",
    "    s += [1]\n",
    "    print(s)\n",
    "        \n",
    "s = [[1], [2, 2, 3], 3]\n",
    "f()\n",
    "\n",
    "print(s)\n"
   ]
  },
  {
   "cell_type": "code",
   "execution_count": 15,
   "metadata": {},
   "outputs": [
    {
     "data": {
      "text/plain": [
       "0.6108643020548935"
      ]
     },
     "execution_count": 15,
     "metadata": {},
     "output_type": "execute_result"
    }
   ],
   "source": [
    "a, b, c = 1, 1, 0\n",
    "P_x = np.array([.1, .2, .7])\n",
    "\n",
    "p = np.array([\n",
    "    [a, b, c],\n",
    "    [np.nan, np.nan, np.nan]\n",
    "])\n",
    "enc = StochMap(p, P_x, None)"
   ]
  },
  {
   "attachments": {},
   "cell_type": "markdown",
   "metadata": {},
   "source": [
    "simple example "
   ]
  },
  {
   "cell_type": "code",
   "execution_count": 72,
   "metadata": {},
   "outputs": [
    {
     "data": {
      "application/vnd.jupyter.widget-view+json": {
       "model_id": "1421c3dba2b44c70b3a128ffb7695006",
       "version_major": 2,
       "version_minor": 0
      },
      "text/plain": [
       "  0%|          | 0/1000000 [00:00<?, ?it/s]"
      ]
     },
     "metadata": {},
     "output_type": "display_data"
    }
   ],
   "source": [
    "P_x = np.array([.1, .2, .7])\n",
    "\n",
    "values = np.stack(np.meshgrid(*[np.linspace(0, 1, 10)]*6), -1).reshape(-1, 6)\n",
    "\n",
    "H_t, I = [], []\n",
    "for v in tqdm(values):\n",
    "    p = np.row_stack([v.reshape(2, 3),[np.nan, np.nan, np.nan]]).copy()\n",
    "    if (np.nansum(p, axis=0) > 1).any():\n",
    "        H_t.append(-1)\n",
    "        I.append(-1)\n",
    "    else:\n",
    "        enc = StochMap(p, P_x, None)\n",
    "        H_t.append(enc.ent())\n",
    "        I.append(enc.mutual_info())\n",
    "\n",
    "H_t, I = np.array(H_t), np.array(I)"
   ]
  },
  {
   "cell_type": "code",
   "execution_count": 11,
   "metadata": {},
   "outputs": [],
   "source": [
    "from scipy.stats import entropy as h\n",
    "\n",
    "P_x = np.array([.1, .2, .7])\n",
    "\n",
    "P_tx = np.stack(np.meshgrid(*[np.linspace(0, 1, 20)]*6), -1).reshape(-1, 2, 3)\n",
    "# P_tx = np.stack(np.meshgrid(*[np.linspace(0, 1, 100)]*3), -1).reshape(-1, 1, 3)\n",
    "\n",
    "P_tx = np.concatenate((P_tx, np.zeros((P_tx.shape[0], 1, P_tx.shape[-1]))), axis=1)\n",
    "P_tx[:, -1, :] = 1 - P_tx[:, :-1, :].sum(axis=1)\n",
    "P_tx = P_tx[np.all(P_tx >= 0, axis=(1, 2))]\n",
    "\n",
    "P_h = P_tx @ P_x\n",
    "\n",
    "H_t = h(P_h, axis=1)\n",
    "H_tx = h(P_tx, axis=1) @ P_x\n",
    "I = H_t - H_tx"
   ]
  },
  {
   "cell_type": "code",
   "execution_count": 13,
   "metadata": {},
   "outputs": [
    {
     "data": {
      "application/vnd.jupyter.widget-view+json": {
       "model_id": "213c565b68a74fecaecb0adddb6d5060",
       "version_major": 2,
       "version_minor": 0
      },
      "text/plain": [
       "  0%|          | 0/100 [00:00<?, ?it/s]"
      ]
     },
     "metadata": {},
     "output_type": "display_data"
    }
   ],
   "source": [
    "R_values = np.linspace(0, 1, 100)\n",
    "best_I, best_H = [], []\n",
    "for R in tqdm(R_values):\n",
    "    best = np.max(I[H_t <= R])\n",
    "    best_I.append(best)        \n",
    "    best_H.append(H_t[I == best][0])\n",
    "    \n",
    "best_I, best_H = np.array(best_I), np.array(best_H)"
   ]
  },
  {
   "cell_type": "code",
   "execution_count": 18,
   "metadata": {},
   "outputs": [
    {
     "data": {
      "text/plain": [
       "<matplotlib.legend.Legend at 0x11fda6b50>"
      ]
     },
     "execution_count": 18,
     "metadata": {},
     "output_type": "execute_result"
    },
    {
     "data": {
      "image/png": "[encoded data removed]",
      "text/plain": [
       "<Figure size 432x432 with 1 Axes>"
      ]
     },
     "metadata": {
      "needs_background": "light"
     },
     "output_type": "display_data"
    }
   ],
   "source": [
    "fig, ax = plt.subplots(figsize=(6, 6))\n",
    "\n",
    "ax.plot(R_values, best_I, '.', ms=5, label='I(X;T)')\n",
    "ax.plot(R_values, best_H, '.', ms=5, label='H(T)')\n",
    "ax.plot(R_values, best_H - best_I, '.', ms=5, label='H(T|X)')\n",
    "ax.axhline(h(P_x), xmax=h(P_x), ls='--')\n",
    "ax.axhline(h([.3, .7]), xmax=h([.3, .7]), ls='--')\n",
    "ax.axhline(h([.2, .8]), xmax=h([.2, .8]), ls='--')\n",
    "ax.axhline(h([.1, .9]), xmax=h([.1, .9]), ls='--')\n",
    "ax.axvline(h(P_x), ymax=h(P_x), ls='--')\n",
    "ax.axvline(h([.3, .7]), ymax=h([.3, .7]), ls='--')\n",
    "ax.axvline(h([.2, .8]), ymax=h([.2, .8]), ls='--')\n",
    "ax.axvline(h([.1, .9]), ymax=h([.1, .9]), ls='--')\n",
    "\n",
    "ax.axis('scaled')\n",
    "ax.set(xlim=(0, 1), ylim=(0, 1), xlabel='R', ylabel='I');\n",
    "ax.legend()"
   ]
  },
  {
   "cell_type": "markdown",
   "metadata": {},
   "source": [
    "For max I(X; T), st. H(T)<=R, can we say the optimal solution is always when we have T as a function of X?"
   ]
  },
  {
   "cell_type": "code",
   "execution_count": 23,
   "metadata": {},
   "outputs": [
    {
     "name": "stdout",
     "output_type": "stream",
     "text": [
      "[0.61086428 0.61086428]\n"
     ]
    },
    {
     "data": {
      "text/plain": [
       "<matplotlib.colorbar.Colorbar at 0x11dcde550>"
      ]
     },
     "execution_count": 23,
     "metadata": {},
     "output_type": "execute_result"
    },
    {
     "data": {
      "image/png": "[encoded data removed]",
      "text/plain": [
       "<Figure size 432x288 with 2 Axes>"
      ]
     },
     "metadata": {
      "needs_background": "light"
     },
     "output_type": "display_data"
    }
   ],
   "source": [
    "def h(p):\n",
    "    return - p * np.log(p+1e-8) - (1-p) * np.log(1-p+1e-8)\n",
    "\n",
    "a = np.array([0.3, 0.7])\n",
    "print(h(a))\n",
    "R = 0.6\n",
    "\n",
    "p1 = np.linspace(0, 1, 1000)\n",
    "p2 = np.linspace(0, 1, 1000)\n",
    "p1v, p2v = np.meshgrid(p1, p2)\n",
    "\n",
    "H_t = h(a[0]*p1v + a[1]*p2v)\n",
    "H_t_given_x = (a[0] * h(p1v) + a[1] * h(p2v))\n",
    "I = H_t - H_t_given_x\n",
    "\n",
    "I[H_t >= R] = np.nan\n",
    "\n",
    "plt.contourf(p1v, p2v, I)\n",
    "plt.axis('scaled')\n",
    "plt.colorbar()\n",
    "\n",
    "# best = np.nanmax(I)\n",
    "# plt.plot(p1v == best)"
   ]
  }
 ],
 "metadata": {
  "kernelspec": {
   "display_name": "Python 3.9.10 ('base')",
   "language": "python",
   "name": "python3"
  },
  "language_info": {
   "codemirror_mode": {
    "name": "ipython",
    "version": 3
   },
   "file_extension": ".py",
   "mimetype": "text/x-python",
   "name": "python",
   "nbconvert_exporter": "python",
   "pygments_lexer": "ipython3",
   "version": "3.9.10 | packaged by conda-forge | (main, Feb  1 2022, 21:27:43) \n[Clang 11.1.0 ]"
  },
  "orig_nbformat": 4,
  "vscode": {
   "interpreter": {
    "hash": "11e45e01e0587059a370d2e2feeb2e42b4ed710c756bb0ddb1b4a398bae4fb0c"
   }
  }
 },
 "nbformat": 4,
 "nbformat_minor": 2
}
